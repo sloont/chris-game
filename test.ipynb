{
 "cells": [
  {
   "cell_type": "code",
   "execution_count": 1,
   "metadata": {},
   "outputs": [],
   "source": [
    "from Deck import AdventurerDeck, DungeonDeck\n",
    "from PlayerClasses import Pawn, Adventurer, Dungeon, Encounter\n",
    "from CardClasses import AdventurerCard, DungeonCard\n",
    "\n",
    "ADVENTURER_CSV = 'adventurer-deck.csv'\n",
    "DUNGEON_CSV = 'dungeon-deck.csv'\n",
    "\n",
    "adventurer_deck = AdventurerDeck(ADVENTURER_CSV)\n",
    "dungeon_deck = DungeonDeck(DUNGEON_CSV)"
   ]
  },
  {
   "cell_type": "code",
   "execution_count": 2,
   "metadata": {},
   "outputs": [],
   "source": [
    "adventurer_deck.shuffle()\n",
    "dungeon_deck.shuffle()"
   ]
  },
  {
   "cell_type": "code",
   "execution_count": 3,
   "metadata": {},
   "outputs": [],
   "source": [
    "adventurer = Adventurer({\n",
    "    'name': 'Topher',\n",
    "    'health': 20,\n",
    "    'damage': 1,\n",
    "})\n"
   ]
  },
  {
   "cell_type": "code",
   "execution_count": 4,
   "metadata": {},
   "outputs": [
    {
     "name": "stdout",
     "output_type": "stream",
     "text": [
      "Name: Topher\n",
      "Health: 20\n",
      "Damage: 1\n",
      "\n",
      "magic shield\n",
      "iron skin\n",
      "ironhide potion\n",
      "dagger\n",
      "flimsy chainmail\n"
     ]
    }
   ],
   "source": [
    "adventurer.who_am_i()\n",
    "adventurer.draw(adventurer_deck)\n",
    "for card in adventurer.cards:\n",
    "    print(f'{card.name}')"
   ]
  },
  {
   "cell_type": "code",
   "execution_count": 5,
   "metadata": {},
   "outputs": [
    {
     "name": "stdout",
     "output_type": "stream",
     "text": [
      "falling rocks\n",
      "bruiser\n",
      "kobold\n",
      "kobold\n",
      "spike pit\n",
      "giant spider\n",
      "bone ogre\n"
     ]
    }
   ],
   "source": [
    "\n",
    "dungeon = Dungeon()\n",
    "encounter = Encounter(adventurer, dungeon)\n",
    "\n",
    "dungeon.draw(dungeon_deck)\n",
    "for card in dungeon.cards:\n",
    "    print(f'{card.name}')"
   ]
  },
  {
   "cell_type": "code",
   "execution_count": 6,
   "metadata": {},
   "outputs": [],
   "source": [
    "dungeon.summon(dungeon.cards[2], encounter)"
   ]
  },
  {
   "cell_type": "code",
   "execution_count": 7,
   "metadata": {},
   "outputs": [
    {
     "name": "stdout",
     "output_type": "stream",
     "text": [
      "falling rocks\n",
      "bruiser\n",
      "kobold\n",
      "spike pit\n",
      "giant spider\n",
      "bone ogre\n"
     ]
    }
   ],
   "source": [
    "for card in dungeon.cards:\n",
    "    print(f'{card.name}')"
   ]
  },
  {
   "cell_type": "code",
   "execution_count": 8,
   "metadata": {},
   "outputs": [
    {
     "name": "stdout",
     "output_type": "stream",
     "text": [
      "[<PlayerClasses.Pawn object at 0x7fb1fc36d8e0>]\n",
      "<PlayerClasses.Adventurer object at 0x7fb1fc2cc8b0>\n",
      "[<PlayerClasses.Adventurer object at 0x7fb1fc2cc8b0>]\n"
     ]
    }
   ],
   "source": [
    "print(f'{encounter.dungeon_board}')\n",
    "encounter.update_adventurer(adventurer)\n",
    "print(f'{encounter.adventurer}')\n",
    "print(f'{encounter.adventurer_board}')"
   ]
  },
  {
   "cell_type": "code",
   "execution_count": 9,
   "metadata": {},
   "outputs": [
    {
     "name": "stdout",
     "output_type": "stream",
     "text": [
      "{'attacker': 'kobold', 'defender': 'Topher', 'damage': 1, 'defender_health_pre': 20, 'defender_health_post': 19}\n"
     ]
    }
   ],
   "source": [
    "\n",
    "print(encounter.dungeon_board[0].attack(encounter.adventurer_board[0]))"
   ]
  }
 ],
 "metadata": {
  "interpreter": {
   "hash": "7241bea5deeee81a208d8fb2a058bad240dec21e97be060a92302ecad2d2e084"
  },
  "kernelspec": {
   "display_name": "Python 3.9.0 64-bit",
   "language": "python",
   "name": "python3"
  },
  "language_info": {
   "codemirror_mode": {
    "name": "ipython",
    "version": 3
   },
   "file_extension": ".py",
   "mimetype": "text/x-python",
   "name": "python",
   "nbconvert_exporter": "python",
   "pygments_lexer": "ipython3",
   "version": "3.8.10"
  },
  "orig_nbformat": 4
 },
 "nbformat": 4,
 "nbformat_minor": 2
}
