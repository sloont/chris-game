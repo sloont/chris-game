{
 "cells": [
  {
   "cell_type": "code",
   "execution_count": 1,
   "metadata": {},
   "outputs": [],
   "source": [
    "from Deck import AdventurerDeck, DungeonDeck\n",
    "from PlayerClasses import Adventurer, Dungeon, Encounter\n",
    "\n",
    "ADVENTURER_CSV = 'adventurer-deck.csv'\n",
    "DUNGEON_CSV = 'dungeon-deck.csv'\n",
    "\n",
    "adventurer_deck = AdventurerDeck(ADVENTURER_CSV)\n",
    "dungeon_deck = DungeonDeck(DUNGEON_CSV)"
   ]
  },
  {
   "cell_type": "code",
   "execution_count": 2,
   "metadata": {},
   "outputs": [],
   "source": [
    "adventurer_deck.shuffle()\n",
    "dungeon_deck.shuffle()"
   ]
  },
  {
   "cell_type": "code",
   "execution_count": 3,
   "metadata": {},
   "outputs": [],
   "source": [
    "adventurer = Adventurer({\n",
    "    'name': 'Topher',\n",
    "    'health': 20,\n",
    "    'damage': 1,\n",
    "})\n"
   ]
  },
  {
   "cell_type": "code",
   "execution_count": 4,
   "metadata": {},
   "outputs": [
    {
     "name": "stdout",
     "output_type": "stream",
     "text": [
      "Name: Topher\n",
      "Health: 20\n",
      "Damage: 1\n",
      "\n",
      "fireball\n",
      "tower shield\n",
      "medium healing potion\n",
      "wizard staff\n",
      "wizard staff\n"
     ]
    }
   ],
   "source": [
    "adventurer.who_am_i()\n",
    "adventurer.draw(adventurer_deck)\n",
    "for card in adventurer.cards:\n",
    "    print(f'{card.name}')"
   ]
  },
  {
   "cell_type": "code",
   "execution_count": 5,
   "metadata": {},
   "outputs": [
    {
     "name": "stdout",
     "output_type": "stream",
     "text": [
      "giant spider\n",
      "kobold\n",
      "bandit\n",
      "rock monster\n",
      "big snake\n",
      "rock monster\n",
      "bandit\n"
     ]
    }
   ],
   "source": [
    "\n",
    "dungeon = Dungeon()\n",
    "encounter = Encounter(adventurer, dungeon)\n",
    "\n",
    "dungeon.draw(dungeon_deck)\n",
    "for card in dungeon.cards:\n",
    "    print(f'{card.name}')"
   ]
  },
  {
   "cell_type": "code",
   "execution_count": 6,
   "metadata": {},
   "outputs": [],
   "source": [
    "dungeon.summon(dungeon.cards[2], encounter)"
   ]
  },
  {
   "cell_type": "code",
   "execution_count": 7,
   "metadata": {},
   "outputs": [
    {
     "name": "stdout",
     "output_type": "stream",
     "text": [
      "giant spider\n",
      "kobold\n",
      "rock monster\n",
      "big snake\n",
      "rock monster\n",
      "bandit\n"
     ]
    }
   ],
   "source": [
    "for card in dungeon.cards:\n",
    "    print(f'{card.name}')"
   ]
  },
  {
   "cell_type": "code",
   "execution_count": 8,
   "metadata": {},
   "outputs": [
    {
     "name": "stdout",
     "output_type": "stream",
     "text": [
      "[<CardClasses.DungeonCard object at 0x000002716817D880>]\n",
      "<PlayerClasses.Adventurer object at 0x000002716817C9A0>\n",
      "[{'health': 20, 'damage': 1, 'defense': 0}]\n"
     ]
    }
   ],
   "source": [
    "print(f'{encounter.dungeon_board}')\n",
    "encounter.update_adventurer(adventurer)\n",
    "print(f'{encounter.adventurer}')\n",
    "print(f'{encounter.adventurer_board}')"
   ]
  }
 ],
 "metadata": {
  "interpreter": {
   "hash": "7241bea5deeee81a208d8fb2a058bad240dec21e97be060a92302ecad2d2e084"
  },
  "kernelspec": {
   "display_name": "Python 3.9.0 64-bit",
   "language": "python",
   "name": "python3"
  },
  "language_info": {
   "codemirror_mode": {
    "name": "ipython",
    "version": 3
   },
   "file_extension": ".py",
   "mimetype": "text/x-python",
   "name": "python",
   "nbconvert_exporter": "python",
   "pygments_lexer": "ipython3",
   "version": "3.9.0"
  },
  "orig_nbformat": 4
 },
 "nbformat": 4,
 "nbformat_minor": 2
}
