{
 "cells": [
  {
   "cell_type": "code",
   "execution_count": 1,
   "metadata": {},
   "outputs": [],
   "source": [
    "from Deck import AdventurerDeck, DungeonDeck\n",
    "from PlayerClasses import Pawn, Adventurer, Dungeon, Encounter\n",
    "from CardClasses import AdventurerCard, DungeonCard\n",
    "\n",
    "ADVENTURER_CSV = 'adventurer-deck.csv'\n",
    "DUNGEON_CSV = 'dungeon-deck.csv'\n",
    "\n",
    "adventurer_deck = AdventurerDeck(ADVENTURER_CSV)\n",
    "dungeon_deck = DungeonDeck(DUNGEON_CSV)"
   ]
  },
  {
   "cell_type": "code",
   "execution_count": 2,
   "metadata": {},
   "outputs": [],
   "source": [
    "adventurer_deck.shuffle()\n",
    "dungeon_deck.shuffle()"
   ]
  },
  {
   "cell_type": "code",
   "execution_count": 3,
   "metadata": {},
   "outputs": [],
   "source": [
    "adventurer = Adventurer({\n",
    "    'name': 'Topher',\n",
    "    'health': 20,\n",
    "    'damage': 1,\n",
    "})\n"
   ]
  },
  {
   "cell_type": "code",
   "execution_count": 4,
   "metadata": {},
   "outputs": [
    {
     "name": "stdout",
     "output_type": "stream",
     "text": [
      "Name: Topher\n",
      "Health: 20\n",
      "Damage: 1\n",
      "\n",
      "large healing potion\n",
      "large healing potion\n",
      "dagger\n",
      "fireball\n",
      "tower shield\n"
     ]
    }
   ],
   "source": [
    "adventurer.who_am_i()\n",
    "adventurer.draw(adventurer_deck)\n",
    "for card in adventurer.cards:\n",
    "    print(f'{card.name}')"
   ]
  },
  {
   "cell_type": "code",
   "execution_count": 5,
   "metadata": {},
   "outputs": [
    {
     "name": "stdout",
     "output_type": "stream",
     "text": [
      "big snake\n",
      "bone ogre\n",
      "lichspawn\n",
      "kobold\n",
      "bandit\n",
      "falling rocks\n",
      "giant spider\n"
     ]
    }
   ],
   "source": [
    "\n",
    "dungeon = Dungeon()\n",
    "encounter = Encounter(adventurer, dungeon)\n",
    "\n",
    "dungeon.draw(dungeon_deck)\n",
    "for card in dungeon.cards:\n",
    "    print(f'{card.name}')"
   ]
  },
  {
   "cell_type": "code",
   "execution_count": 6,
   "metadata": {},
   "outputs": [],
   "source": [
    "dungeon.summon(dungeon.cards[2], encounter)"
   ]
  },
  {
   "cell_type": "code",
   "execution_count": 7,
   "metadata": {},
   "outputs": [
    {
     "name": "stdout",
     "output_type": "stream",
     "text": [
      "big snake\n",
      "bone ogre\n",
      "kobold\n",
      "bandit\n",
      "falling rocks\n",
      "giant spider\n"
     ]
    }
   ],
   "source": [
    "for card in dungeon.cards:\n",
    "    print(f'{card.name}')"
   ]
  },
  {
   "cell_type": "code",
   "execution_count": 8,
   "metadata": {},
   "outputs": [
    {
     "name": "stdout",
     "output_type": "stream",
     "text": [
      "[<PlayerClasses.Pawn object at 0x000001CFBBE2ABB0>]\n",
      "<PlayerClasses.Adventurer object at 0x000001CFBBE0CAF0>\n",
      "[<PlayerClasses.Adventurer object at 0x000001CFBBE0CAF0>]\n"
     ]
    }
   ],
   "source": [
    "print(f'{encounter.dungeon_board}')\n",
    "encounter.update_adventurer(adventurer)\n",
    "print(f'{encounter.adventurer}')\n",
    "print(f'{encounter.adventurer_board}')"
   ]
  },
  {
   "cell_type": "code",
   "execution_count": 9,
   "metadata": {},
   "outputs": [
    {
     "ename": "TypeError",
     "evalue": "'dict' object is not callable",
     "output_type": "error",
     "traceback": [
      "\u001b[1;31m---------------------------------------------------------------------------\u001b[0m",
      "\u001b[1;31mTypeError\u001b[0m                                 Traceback (most recent call last)",
      "\u001b[1;32m~\\AppData\\Local\\Temp/ipykernel_12028/2519143011.py\u001b[0m in \u001b[0;36m<module>\u001b[1;34m\u001b[0m\n\u001b[1;32m----> 1\u001b[1;33m \u001b[0mprint\u001b[0m\u001b[1;33m(\u001b[0m\u001b[0mencounter\u001b[0m\u001b[1;33m.\u001b[0m\u001b[0mdungeon_board\u001b[0m\u001b[1;33m[\u001b[0m\u001b[1;36m0\u001b[0m\u001b[1;33m]\u001b[0m\u001b[1;33m.\u001b[0m\u001b[0mattack\u001b[0m\u001b[1;33m(\u001b[0m\u001b[0mencounter\u001b[0m\u001b[1;33m.\u001b[0m\u001b[0madventurer_board\u001b[0m\u001b[1;33m[\u001b[0m\u001b[1;36m0\u001b[0m\u001b[1;33m]\u001b[0m\u001b[1;33m)\u001b[0m\u001b[1;33m)\u001b[0m\u001b[1;33m\u001b[0m\u001b[1;33m\u001b[0m\u001b[0m\n\u001b[0m",
      "\u001b[1;32mc:\\Users\\Colin\\Desktop\\chris-game\\PlayerClasses.py\u001b[0m in \u001b[0;36mattack\u001b[1;34m(self, target)\u001b[0m\n\u001b[0;32m     27\u001b[0m         \u001b[0mattack\u001b[0m \u001b[1;33m=\u001b[0m \u001b[0mAttack\u001b[0m\u001b[1;33m(\u001b[0m\u001b[0mself\u001b[0m\u001b[1;33m,\u001b[0m \u001b[0mtarget\u001b[0m\u001b[1;33m)\u001b[0m\u001b[1;33m\u001b[0m\u001b[1;33m\u001b[0m\u001b[0m\n\u001b[0;32m     28\u001b[0m         \u001b[0mattack\u001b[0m\u001b[1;33m.\u001b[0m\u001b[0mattack\u001b[0m\u001b[1;33m(\u001b[0m\u001b[0mtarget\u001b[0m\u001b[1;33m)\u001b[0m\u001b[1;33m\u001b[0m\u001b[1;33m\u001b[0m\u001b[0m\n\u001b[1;32m---> 29\u001b[1;33m         \u001b[1;32mreturn\u001b[0m \u001b[0mattack\u001b[0m\u001b[1;33m.\u001b[0m\u001b[0mlog_combat\u001b[0m\u001b[1;33m(\u001b[0m\u001b[1;33m)\u001b[0m\u001b[1;33m\u001b[0m\u001b[1;33m\u001b[0m\u001b[0m\n\u001b[0m\u001b[0;32m     30\u001b[0m \u001b[1;33m\u001b[0m\u001b[0m\n\u001b[0;32m     31\u001b[0m     \u001b[1;32mdef\u001b[0m \u001b[0mdefend\u001b[0m\u001b[1;33m(\u001b[0m\u001b[0mself\u001b[0m\u001b[1;33m,\u001b[0m \u001b[0mtarget\u001b[0m\u001b[1;33m)\u001b[0m\u001b[1;33m:\u001b[0m\u001b[1;33m\u001b[0m\u001b[1;33m\u001b[0m\u001b[0m\n",
      "\u001b[1;31mTypeError\u001b[0m: 'dict' object is not callable"
     ]
    }
   ],
   "source": [
    "\n",
    "print(encounter.dungeon_board[0].attack(encounter.adventurer_board[0]))"
   ]
  }
 ],
 "metadata": {
  "interpreter": {
   "hash": "7241bea5deeee81a208d8fb2a058bad240dec21e97be060a92302ecad2d2e084"
  },
  "kernelspec": {
   "display_name": "Python 3.9.0 64-bit",
   "language": "python",
   "name": "python3"
  },
  "language_info": {
   "codemirror_mode": {
    "name": "ipython",
    "version": 3
   },
   "file_extension": ".py",
   "mimetype": "text/x-python",
   "name": "python",
   "nbconvert_exporter": "python",
   "pygments_lexer": "ipython3",
   "version": "3.9.0"
  },
  "orig_nbformat": 4
 },
 "nbformat": 4,
 "nbformat_minor": 2
}
