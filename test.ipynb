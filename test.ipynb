{
 "cells": [
  {
   "cell_type": "code",
   "execution_count": 36,
   "metadata": {},
   "outputs": [],
   "source": [
    "from Deck import AdventurerDeck, DungeonDeck\n",
    "from PlayerClasses import Pawn, Adventurer, Dungeon, Encounter\n",
    "from CardClasses import AdventurerCard, DungeonCard\n",
    "from Decisions import Dungeon_AI\n",
    "\n",
    "ADVENTURER_CSV = 'adventurer-deck.csv'\n",
    "DUNGEON_CSV = 'dungeon-deck.csv'\n",
    "\n",
    "adventurer_deck = AdventurerDeck(ADVENTURER_CSV)\n",
    "dungeon_deck = DungeonDeck(DUNGEON_CSV)"
   ]
  },
  {
   "cell_type": "code",
   "execution_count": 37,
   "metadata": {},
   "outputs": [],
   "source": [
    "adventurer_deck.shuffle()\n",
    "dungeon_deck.shuffle()"
   ]
  },
  {
   "cell_type": "code",
   "execution_count": 38,
   "metadata": {},
   "outputs": [],
   "source": [
    "adventurer = Adventurer({\n",
    "    'name': 'Topher',\n",
    "    'health': 20,\n",
    "    'damage': 1,\n",
    "    'power':9001,\n",
    "})\n"
   ]
  },
  {
   "cell_type": "code",
   "execution_count": 39,
   "metadata": {},
   "outputs": [
    {
     "name": "stdout",
     "output_type": "stream",
     "text": [
      "Name: Topher\n",
      "Health: 20\n",
      "Damage: 1\n",
      "\n",
      "large healing potion\n",
      "magic shield\n",
      "basic sword\n",
      "glass armor\n",
      "flimsy chainmail\n"
     ]
    }
   ],
   "source": [
    "adventurer.who_am_i()\n",
    "adventurer.draw(adventurer_deck)\n",
    "for card in adventurer.cards:\n",
    "    print(f'{card.name}')"
   ]
  },
  {
   "cell_type": "code",
   "execution_count": 40,
   "metadata": {},
   "outputs": [
    {
     "name": "stdout",
     "output_type": "stream",
     "text": [
      "bruiser\n",
      "kobold\n",
      "bruiser\n",
      "bone ogre\n",
      "giant spider\n",
      "falling rocks\n",
      "lesser demon\n"
     ]
    }
   ],
   "source": [
    "\n",
    "dungeon = Dungeon()\n",
    "encounter = Encounter(adventurer, dungeon)\n",
    "\n",
    "dungeon.draw(dungeon_deck)\n",
    "for card in dungeon.cards:\n",
    "    print(f'{card.name}')"
   ]
  },
  {
   "cell_type": "code",
   "execution_count": 41,
   "metadata": {},
   "outputs": [
    {
     "name": "stdout",
     "output_type": "stream",
     "text": [
      "bruiser 4\n",
      "kobold 1\n",
      "bruiser 4\n",
      "bone ogre 6\n",
      "giant spider 3\n",
      "lesser demon 4\n"
     ]
    }
   ],
   "source": [
    "ai = Dungeon_AI(encounter)\n",
    "\n",
    "ai.priority_summon(dungeon, encounter)"
   ]
  },
  {
   "cell_type": "code",
   "execution_count": 42,
   "metadata": {},
   "outputs": [
    {
     "name": "stdout",
     "output_type": "stream",
     "text": [
      "bone ogre 6\n",
      "kobold 1\n"
     ]
    }
   ],
   "source": [
    "for pawn in encounter.dungeon_board:\n",
    "    print(pawn.name, pawn.power)\n"
   ]
  }
 ],
 "metadata": {
  "interpreter": {
   "hash": "7241bea5deeee81a208d8fb2a058bad240dec21e97be060a92302ecad2d2e084"
  },
  "kernelspec": {
   "display_name": "Python 3.9.0 64-bit",
   "language": "python",
   "name": "python3"
  },
  "language_info": {
   "codemirror_mode": {
    "name": "ipython",
    "version": 3
   },
   "file_extension": ".py",
   "mimetype": "text/x-python",
   "name": "python",
   "nbconvert_exporter": "python",
   "pygments_lexer": "ipython3",
   "version": "3.9.0"
  },
  "orig_nbformat": 4
 },
 "nbformat": 4,
 "nbformat_minor": 2
}
